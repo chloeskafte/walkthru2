{
 "cells": [
  {
   "cell_type": "markdown",
   "id": "2e3ada94-68ee-4908-972e-21ea5c4e31f8",
   "metadata": {},
   "source": [
    "## Walkthru sample notebook"
   ]
  },
  {
   "cell_type": "markdown",
   "id": "8c524821-1822-4c91-9439-f31cfc63bd60",
   "metadata": {},
   "source": [
    "Here is how I calculate 1+1:"
   ]
  },
  {
   "cell_type": "code",
   "execution_count": 5,
   "id": "4313a2c4-12ce-40f1-89b1-97fabe061619",
   "metadata": {},
   "outputs": [
    {
     "data": {
      "text/plain": [
       "2"
      ]
     },
     "execution_count": 5,
     "metadata": {},
     "output_type": "execute_result"
    }
   ],
   "source": [
    "1+1"
   ]
  },
  {
   "cell_type": "code",
   "execution_count": 6,
   "id": "a85a701c-c1b1-426e-9f7f-46292ad12909",
   "metadata": {},
   "outputs": [],
   "source": [
    "from numpy import *"
   ]
  },
  {
   "cell_type": "markdown",
   "id": "f75c2640-76f3-47ab-beff-de609cb571e9",
   "metadata": {},
   "source": []
  }
 ],
 "metadata": {
  "kernelspec": {
   "display_name": "Python 3 (ipykernel)",
   "language": "python",
   "name": "python3"
  },
  "language_info": {
   "codemirror_mode": {
    "name": "ipython",
    "version": 3
   },
   "file_extension": ".py",
   "mimetype": "text/x-python",
   "name": "python",
   "nbconvert_exporter": "python",
   "pygments_lexer": "ipython3",
   "version": "3.12.6"
  }
 },
 "nbformat": 4,
 "nbformat_minor": 5
}
